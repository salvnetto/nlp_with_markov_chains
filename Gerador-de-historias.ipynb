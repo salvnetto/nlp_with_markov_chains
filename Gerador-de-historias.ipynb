{
 "cells": [
  {
   "cell_type": "code",
   "execution_count": 197,
   "metadata": {},
   "outputs": [],
   "source": [
    "import random\n",
    "import re\n",
    "\n",
    "from nltk.tokenize import word_tokenize\n"
   ]
  },
  {
   "cell_type": "code",
   "execution_count": 198,
   "metadata": {},
   "outputs": [],
   "source": [
    "texto_original = open('alice.txt', 'r').read()"
   ]
  },
  {
   "cell_type": "code",
   "execution_count": 199,
   "metadata": {},
   "outputs": [],
   "source": [
    "def limpeza(texto, idioma):\n",
    "\n",
    "  texto = texto.lower() # Deixar todos os caracteres minusculos\n",
    "  #texto = re.sub(r\"[,.\\\"\\'!@#$%^&*(){}?/;`~:<>+=-\\\\]\", \"\", texto) # Remove todos os caracteres especiais\n",
    "  texto = re.sub(r\"[.:\\\"\\'@#$%^&*(){}/`~<>+=-\\\\]\", \"\", texto) # Remove todos os caracteres especiais\n",
    "  tokens = word_tokenize(texto, language= idioma) # Tokeniza o texto (Separa as palavras)\n",
    "  #palavras = [palavra for palavra in tokens if palavra.isalpha()]\n",
    "\n",
    "\n",
    "  return tokens"
   ]
  },
  {
   "cell_type": "code",
   "execution_count": 200,
   "metadata": {},
   "outputs": [],
   "source": [
    "def markov_chain(texto, n_palavras):\n",
    "  cadeia = {}\n",
    "\n",
    "  for i in range(len(texto) - n_palavras-(n_palavras-1)):\n",
    "    estado_atual, prox_estado = \"\", \"\"\n",
    "    # Adiciona espaço no final da string de acordo com o parametro 'n_palavras'\n",
    "    # Ex: n_palavras = 3 -> \"Oi\", \"Tudo\", \"Bem \"  (Espaço adicionado após a 3 palavra)\n",
    "    for j in range(n_palavras):\n",
    "      estado_atual += texto[i+j] + \" \"\n",
    "      prox_estado += texto[i+j+n_palavras] + \" \"\n",
    "    estado_atual = estado_atual[:-1]\n",
    "    prox_estado = prox_estado[:-1]\n",
    "\n",
    "    # Sistema de pontuação\n",
    "    # Caso um estado ocorra apos n_palavras do estado atual é adicionado 1 ponto\n",
    "    if estado_atual not in cadeia:\n",
    "      cadeia[estado_atual] = {}\n",
    "      cadeia[estado_atual][prox_estado] = 1\n",
    "    else:\n",
    "      if prox_estado in cadeia[estado_atual]:\n",
    "        cadeia[estado_atual][prox_estado] += 1\n",
    "      else:\n",
    "        cadeia[estado_atual][prox_estado] = 1\n",
    "\n",
    "  # Calculando probabilidades de transição\n",
    "  for estado_atual, ponto in cadeia.items():\n",
    "    total = sum(ponto.values())\n",
    "    for estado, count in ponto.items():\n",
    "      cadeia[estado_atual][estado] = count/total\n",
    "\n",
    "  return cadeia\n"
   ]
  },
  {
   "cell_type": "code",
   "execution_count": 201,
   "metadata": {},
   "outputs": [],
   "source": [
    "def gerar_historia(modelo, limit, start):\n",
    "  n = 0\n",
    "  estado_atual = start\n",
    "  prox_estado = None\n",
    "  historia = estado_atual + \" \"\n",
    "\n",
    "  while n < limit:\n",
    "    prox_estado = random.choices(list(modelo[estado_atual].keys()),\n",
    "                                 list(modelo[estado_atual].values()))\n",
    "    estado_atual = prox_estado[0]\n",
    "    historia += estado_atual + \" \"\n",
    "    n += 1\n",
    "\n",
    "  return historia"
   ]
  },
  {
   "cell_type": "code",
   "execution_count": 206,
   "metadata": {},
   "outputs": [
    {
     "name": "stdout",
     "output_type": "stream",
     "text": [
      "0.  alice estava em dúvida , pois se sentia muito solitária e deprimida em pouco tempo , de modos que , mary ann verdadeira e ser expulsa da casa antes de acabar era uma vez o leirão , depois de tirar todas as \n",
      "1.  alice estava olhando para todos os jurados tinham escrito que estúpidos ! , alice afirmou , mas quando você transformar-se em uma voz de trovão , e as coisas estão piores que nunca , pensou a pobre alice ! era tudo o \n",
      "2.  alice estava começando a falar consigo mesma , sempre que eu bebo ou como alguma coisa não fosse feita rapidamente , ela pensava consigo mesma tão bem quanto eu conheço silêncio na roda , por favor , não vou perguntar nunca talvez \n",
      "3.  alice estava muito feliz por ainda existir e agora para o jardim , gritou a rainha diante dela , com um calafrio desculpe-me interferiu o rato apenas balançava a cabeça ! , disse alice e talvez no fim dos julgamentoshouve uma tentativa \n",
      "4.  alice estava olhando para todos os objetos que via pela frente - os atiçadores de fogo vieram primeiro , depois de uma moita para evitar de ser avistada e , quando ela chegou na parte sobre ela recitar você está velho , \n",
      "5.  alice estava bem atrás dele quando dobrou a esquina , mas ainda tenho que ficar de olho nas serpentes , nada as satisfaz ! alice estava tão assustada que correu na direção de alice e cochichou ela foi condenada a que pena \n",
      "6.  alice estava contra ela uma frigideira com óleo fervente , mas não conseguia se lembrar se já tinha parado de espirrar não grunha , disse alice um pouco nervosa porque logo que começou a olhar para ela ela é uma longa cauda \n",
      "7.  alice estava contra ela uma frigideira com óleo fervente , mas não conseguiu atingi-la alice apanhou um pote de uma pedra e , ao mocho , com muita gravidade , e siga até o queixo na água salgada não entrara nela , \n",
      "8.  alice estava ficando muito brava , mas o que o rato tivesse mudado de idéia e voltado para terminar a história era o coelho interrompeu desimportante , é uma dança muito interessante eu nunca soube que gatos pudessem sorrir todos eles podem \n",
      "9.  alice estava bem atrás dele quando dobrou a esquina , mas ainda era possível naquele dia quente que a deixava sonolenta e continuou falando consigo mesmo , a pomba continuou , sem saber a idade dele , e ela começou a mordiscar \n",
      "10.  alice estava começando a falar bem , de longe , a coisa mais seca que eu durmo enquanto respiro ! isso é tudo o que podia fazer , disse alice e talvez não tenha sido apresentada jamais a uma lagosta alice começou \n",
      "11.  alice estava tão assustada que correu na direção que ele não queira ficar , suspirou o papagaio , e logo compreendeu que era apenas um rato , que espirrava e uivava alternadamente , sem dúvida apenas alice não queria ser rude e \n",
      "12.  alice estava totalmente confusa por causa das botas e sapatos , ela exclamou consternada , e despejou um pouco de vinho , a lebre de março ofereceu em um tom alarmado no momento seguinte , quando subitamente , thump ! , caiu \n",
      "13.  alice estava começando a cochilar , mas , alas ! , a duquesa começou , com medo oh ! desculpe-me , gritou a rainha bem , eu tentei recitar como a abelhinha estava atarefada , mas fiz tudo diferente ! alice replicou \n",
      "14.  alice estava olhando para o lugar da lebre de março será bem mais interessante , e as gracinhas iam saltitando alegremente de mãos dadas , em um comprido e baixo aposento , mas estavam todas trancadas , e logo o rato já \n",
      "15.  alice estava totalmente confusa por causa da sua xícara de chá e o pão com manteiga na outra eu peço-lhe desculpas sua majestade , ele começou apressadamente , temerosa de ter ferido os sentimentos do pobre bill eu não gostaria de estar \n",
      "16.  alice estava totalmente confusa por causa das botas e sapatos , o gato disse , apontando alice com o dedo o resto do pessoal parem com isso , mas , se você quiser , disse o grifo e os constantes e fortes \n",
      "17.  alice estava tão assustada que correu na direção de alice , e desapareceu novamente alice esperou pacientemente até a lagarta decididamente então fez-se um silêncio mortal na corte enquanto o resto do baralho , ela não ouvira ainda disse eu estou aqui \n",
      "18.  alice estava totalmente confusa por causa das botas e sapatos no fundo de um ! deveria haver um livro escrito sobre mim , deveria sim ! , retrucou a falsa tartaruga bocejou e esfregou os olhos lentamente eu não estava sobre aqui \n",
      "19.  alice estava mais e mais confusa , mas algumas migalhas devem ter caído , o chapeleiro , virando-se para o final do cortejo as cabeças já foram cortadas , berrou o grifo , e já no momento seguinte uma chuva de pequenos \n"
     ]
    }
   ],
   "source": [
    "texto_tratado = limpeza(texto_original, \"portuguese\")\n",
    "modelo = markov_chain(texto_tratado, 2)\n",
    "texto_final = gerar_historia(modelo, limit= 50, start=\"alice estava\")\n",
    "\n",
    "for i in range(20):\n",
    "    print(str(i)+\". \", gerar_historia(markov_chain(texto_tratado, 2), start=\"alice estava\", limit=20))\n",
    "\n",
    "\n",
    "#arquivo = open('Historia-Final.txt', 'w').write(texto_final)"
   ]
  }
 ],
 "metadata": {
  "kernelspec": {
   "display_name": "base",
   "language": "python",
   "name": "python3"
  },
  "language_info": {
   "codemirror_mode": {
    "name": "ipython",
    "version": 3
   },
   "file_extension": ".py",
   "mimetype": "text/x-python",
   "name": "python",
   "nbconvert_exporter": "python",
   "pygments_lexer": "ipython3",
   "version": "3.11.4"
  },
  "orig_nbformat": 4
 },
 "nbformat": 4,
 "nbformat_minor": 2
}
